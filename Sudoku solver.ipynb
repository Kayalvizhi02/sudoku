{
 "cells": [
  {
   "cell_type": "code",
   "execution_count": 1,
   "id": "4772328f",
   "metadata": {},
   "outputs": [],
   "source": [
    "import matplotlib.pyplot as plt\n",
    "import random\n",
    "import math\n",
    "import sys\n",
    "import time\n",
    "rows = 'ABCDEFGHI'\n",
    "cols = '123456789'"
   ]
  },
  {
   "cell_type": "code",
   "execution_count": 2,
   "id": "21eb50aa",
   "metadata": {},
   "outputs": [],
   "source": [
    "def cross(a,b):\n",
    "    return [i+j for i in a for j in b]\n",
    "boxes=cross(rows,cols)\n",
    "ru=[cross(r,cols) for r in rows]\n",
    "cu=[cross(rows,c) for c in cols]\n",
    "su=[cross(rs,cs) for rs in ('ABC','DEF','GHI') for cs in('123','456','789')]\n",
    "ul=ru+cu+su\n",
    "units = dict((s, [u for u in ul if s in u])  for s in boxes)\n",
    "peers = dict((s, set(sum(units[s],[]))-set([s]))for s in boxes)"
   ]
  },
  {
   "cell_type": "code",
   "execution_count": 3,
   "id": "f1f92a1a",
   "metadata": {},
   "outputs": [],
   "source": [
    "def grid_values(grid):\n",
    "    assert len(grid) == 81, \"Input grid must be a string length of 81 (9x9)\"\n",
    "    boxes = cross(rows,cols)\n",
    "    return dict(zip(boxes,grid))"
   ]
  },
  {
   "cell_type": "code",
   "execution_count": 4,
   "id": "70076db6",
   "metadata": {},
   "outputs": [],
   "source": [
    "def display(values):\n",
    "    width = 1+max(len(values[s]) for s in boxes)\n",
    "    line = '+'.join(['-'*(width*3)]*3)\n",
    "    for r in rows:\n",
    "        print(''.join(values[r+c].center (width)+('|' if c in '36' else '') for c in cols))\n",
    "        if r in 'CF': print(line)\n",
    "    return"
   ]
  },
  {
   "cell_type": "code",
   "execution_count": 5,
   "id": "612d0dde",
   "metadata": {},
   "outputs": [],
   "source": [
    "def grid_values_improved(grid):\n",
    "    values = []\n",
    "    all_digits = '123456789'\n",
    "    for c in grid:\n",
    "        if c == '.':\n",
    "            values.append(all_digits)\n",
    "        elif c in all_digits:\n",
    "                values.append(c)\n",
    "    assert len(values) == 81\n",
    "    boxes = cross(rows,cols)\n",
    "    return dict(zip(boxes,values))"
   ]
  },
  {
   "cell_type": "code",
   "execution_count": 6,
   "id": "c8f2121d",
   "metadata": {},
   "outputs": [],
   "source": [
    "def elimination(values):\n",
    "    solved_values = [box for box in values.keys() if len(values[box])==1]\n",
    "    for box in solved_values:\n",
    "        digit = values[box]\n",
    "        for peer in peers[box]:\n",
    "            values[peer] = values[peer].replace(digit,'')\n",
    "    return values"
   ]
  },
  {
   "cell_type": "code",
   "execution_count": 7,
   "id": "36464056",
   "metadata": {},
   "outputs": [],
   "source": [
    "def only_choice(values):\n",
    "    for unit in ul:\n",
    "        for digit in '123456789':\n",
    "            dplaces = [box for box in unit if digit in values[box]]\n",
    "            if len(dplaces) == 1:\n",
    "                values[dplaces[0]] = digit\n",
    "    return values  "
   ]
  },
  {
   "cell_type": "code",
   "execution_count": 8,
   "id": "0fa32998",
   "metadata": {},
   "outputs": [],
   "source": [
    "def reduce_puzzle(values):\n",
    "    stalled =False\n",
    "    while not stalled:\n",
    "        solved_values_before = len([box for box in values.keys() if len(values[box])==1])\n",
    "        elimination(values)\n",
    "        only_choice(values)\n",
    "        solved_values_after = len([box for box in values.keys() if len(values[box])==1])\n",
    "        stalled = solved_values_after == solved_values_before\n",
    "        if len([box for box in values.keys() if len(values[box])==1])==0:\n",
    "            return False\n",
    "    return values "
   ]
  },
  {
   "cell_type": "code",
   "execution_count": 9,
   "id": "8c15a83b",
   "metadata": {},
   "outputs": [],
   "source": [
    "def search(values):\n",
    "    values_reduced = reduce_puzzle(values)\n",
    "    if not values_reduced:\n",
    "        return False\n",
    "    else:\n",
    "        values=values_reduced\n",
    "    if len([box for box in values.keys() if len(values[box])==1])==81:\n",
    "        return values   \n",
    "    possibility_count_list = [(len(values[box]),box) for box in values.keys() if len(values[box])>1]    \n",
    "    possibility_count_list.sort()\n",
    "    for(_,t_box_min) in possibility_count_list:\n",
    "        for i_digit in values[t_box_min]:\n",
    "            new_values = values.copy()\n",
    "            new_values[t_box_min]=i_digit\n",
    "            new_values = search(new_values)\n",
    "            if new_values:\n",
    "                return new_values           \n",
    "    return values"
   ]
  },
  {
   "cell_type": "code",
   "execution_count": 10,
   "id": "13a3fa2a",
   "metadata": {},
   "outputs": [],
   "source": [
    "def search(values):\n",
    "    values_reduced = reduce_puzzle(values)\n",
    "    if not values_reduced:\n",
    "        return False\n",
    "    else:\n",
    "        values=values_reduced\n",
    "    if len([box for box in values.keys() if len(values[box])==1])==81:\n",
    "        return values  \n",
    "    possibility_count_list = [(len(values[box]),box) for box in values.keys() if len(values[box])>1]\n",
    "    possibility_count_list.sort()\n",
    "    for(_,t_box_min) in possibility_count_list:\n",
    "        for i_digit in values[t_box_min]:\n",
    "            new_values = values.copy()\n",
    "            new_values[t_box_min]=i_digit\n",
    "            new_values = search(new_values)\n",
    "            if new_values:\n",
    "                return new_values\n",
    "            \n",
    "    return values"
   ]
  },
  {
   "cell_type": "code",
   "execution_count": 11,
   "id": "fe666d96",
   "metadata": {},
   "outputs": [],
   "source": [
    "p='.2.....6..1.....3.9.......1..25.54....89.37....56.61......9....75.....28.6.1.4.9.'\n"
   ]
  },
  {
   "cell_type": "code",
   "execution_count": 12,
   "id": "7ad3e820",
   "metadata": {},
   "outputs": [
    {
     "name": "stdout",
     "output_type": "stream",
     "text": [
      ". 2 . |. . . |. 6 . \n",
      ". 1 . |. . . |. 3 . \n",
      "9 . . |. . . |. . 1 \n",
      "------+------+------\n",
      ". . 2 |5 . 5 |4 . . \n",
      ". . 8 |9 . 3 |7 . . \n",
      ". . 5 |6 . 6 |1 . . \n",
      "------+------+------\n",
      ". . . |. 9 . |. . . \n",
      "7 5 . |. . . |. 2 8 \n",
      ". 6 . |1 . 4 |. 9 . \n",
      "\n",
      "\n",
      "\n",
      "123456789     2     123456789 |123456789 123456789 123456789 |123456789     6     123456789 \n",
      "123456789     1     123456789 |123456789 123456789 123456789 |123456789     3     123456789 \n",
      "    9     123456789 123456789 |123456789 123456789 123456789 |123456789 123456789     1     \n",
      "------------------------------+------------------------------+------------------------------\n",
      "123456789 123456789     2     |    5     123456789     5     |    4     123456789 123456789 \n",
      "123456789 123456789     8     |    9     123456789     3     |    7     123456789 123456789 \n",
      "123456789 123456789     5     |    6     123456789     6     |    1     123456789 123456789 \n",
      "------------------------------+------------------------------+------------------------------\n",
      "123456789 123456789 123456789 |123456789     9     123456789 |123456789 123456789 123456789 \n",
      "    7         5     123456789 |123456789 123456789 123456789 |123456789     2         8     \n",
      "123456789     6     123456789 |    1     123456789     4     |123456789     9     123456789 \n",
      "\n",
      "\n",
      "\n",
      "8 2 7 |4 3 1 |9 6 5 \n",
      "6 1   |    9 |2 3   \n",
      "9 3   |8 5 2 |  4 1 \n",
      "------+------+------\n",
      "1 9 2 |5 7   |4 8 3 \n",
      "  4 8 |9 2 3 |7 5 6 \n",
      "3 7 5 |6 4   |1   9 \n",
      "------+------+------\n",
      "2 8   |7 9 5 |3 1 4 \n",
      "7 5 1 |3   6 |  2 8 \n",
      "  6 3 |1   4 |5 9 7 \n",
      "\n",
      "\n",
      "0.0062808990478515625 seconds\n"
     ]
    }
   ],
   "source": [
    "start_time = time.time()\n",
    "display(grid_values(p))\n",
    "p1=grid_values_improved(p)\n",
    "print(\"\\n\\n\")\n",
    "display(p1)\n",
    "result = search(p1)\n",
    "print(\"\\n\\n\")\n",
    "display(result)\n",
    "time_taken=time.time() - start_time\n",
    "print(\"\\n\\n{0} seconds\".format(time_taken))"
   ]
  },
  {
   "cell_type": "code",
   "execution_count": null,
   "id": "0c676352",
   "metadata": {},
   "outputs": [],
   "source": []
  }
 ],
 "metadata": {
  "kernelspec": {
   "display_name": "Python 3",
   "language": "python",
   "name": "python3"
  },
  "language_info": {
   "codemirror_mode": {
    "name": "ipython",
    "version": 3
   },
   "file_extension": ".py",
   "mimetype": "text/x-python",
   "name": "python",
   "nbconvert_exporter": "python",
   "pygments_lexer": "ipython3",
   "version": "3.8.8"
  }
 },
 "nbformat": 4,
 "nbformat_minor": 5
}
